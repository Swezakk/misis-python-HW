{
 "cells": [
  {
   "cell_type": "code",
   "execution_count": 1,
   "id": "9a2e5f05-9984-44d1-9330-ba51fb1fd0ba",
   "metadata": {},
   "outputs": [
    {
     "name": "stdout",
     "output_type": "stream",
     "text": [
      "Меня зовут Ким Леонид, и я готов страдать на курсе!\n"
     ]
    }
   ],
   "source": [
    "print(\"Меня зовут Ким Леонид, и я готов страдать на курсе!\")"
   ]
  },
  {
   "cell_type": "markdown",
   "id": "e341e00e-c18a-4fc9-847a-47c47e43a719",
   "metadata": {},
   "source": [
    "# Тестируем Markdown\n",
    "## О себе\n",
    "- Учусь в МИСИС на магистратуре\n",
    "- Работаю ведущим БА"
   ]
  },
  {
   "cell_type": "code",
   "execution_count": 2,
   "id": "12b8b487-24bc-40aa-a41c-e3ac58880982",
   "metadata": {},
   "outputs": [
    {
     "data": {
      "text/plain": [
       "1"
      ]
     },
     "execution_count": 2,
     "metadata": {},
     "output_type": "execute_result"
    }
   ],
   "source": [
    "77 % 2"
   ]
  },
  {
   "cell_type": "code",
   "execution_count": 8,
   "id": "49b98d59-deac-45f1-b8fa-397fa5124bfe",
   "metadata": {},
   "outputs": [
    {
     "data": {
      "text/plain": [
       "True"
      ]
     },
     "execution_count": 8,
     "metadata": {},
     "output_type": "execute_result"
    }
   ],
   "source": [
    "22 % 2 == 0 "
   ]
  },
  {
   "cell_type": "code",
   "execution_count": 4,
   "id": "a62898e7-3708-47df-b558-69353c2931af",
   "metadata": {},
   "outputs": [
    {
     "data": {
      "text/plain": [
       "34792782221696"
      ]
     },
     "execution_count": 4,
     "metadata": {},
     "output_type": "execute_result"
    }
   ],
   "source": [
    "86 ** 7"
   ]
  },
  {
   "cell_type": "code",
   "execution_count": 6,
   "id": "66c2ada7-c44d-4ab0-b9f1-1c09637af95d",
   "metadata": {},
   "outputs": [
    {
     "data": {
      "text/plain": [
       "1920.0"
      ]
     },
     "execution_count": 6,
     "metadata": {},
     "output_type": "execute_result"
    }
   ],
   "source": [
    "3686400 ** 0.5"
   ]
  }
 ],
 "metadata": {
  "kernelspec": {
   "display_name": "Python 3 (ipykernel)",
   "language": "python",
   "name": "python3"
  },
  "language_info": {
   "codemirror_mode": {
    "name": "ipython",
    "version": 3
   },
   "file_extension": ".py",
   "mimetype": "text/x-python",
   "name": "python",
   "nbconvert_exporter": "python",
   "pygments_lexer": "ipython3",
   "version": "3.9.6"
  }
 },
 "nbformat": 4,
 "nbformat_minor": 5
}
