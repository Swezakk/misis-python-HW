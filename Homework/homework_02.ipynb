{
 "cells": [
  {
   "cell_type": "markdown",
   "id": "f4b42835-3c97-49ea-9fc3-9f8131c38000",
   "metadata": {},
   "source": [
    "# Задача 1: \"Классический FizzBuzz\""
   ]
  },
  {
   "cell_type": "code",
   "execution_count": 21,
   "id": "89dc5afc-24cc-4b0e-877b-1883fd4e65e1",
   "metadata": {},
   "outputs": [
    {
     "name": "stdin",
     "output_type": "stream",
     "text": [
      "Введите целое положительное число:  15\n"
     ]
    },
    {
     "name": "stdout",
     "output_type": "stream",
     "text": [
      "1 2 Fizz 4 Buzz Fizz 7 8 Fizz Buzz 11 Fizz 13 14 FizzBuzz "
     ]
    }
   ],
   "source": [
    "a = \"FizzBuzz\"\n",
    "b = \"Fizz\"\n",
    "c = \"Buzz\"\n",
    "\n",
    "n = int(input('Введите целое положительное число: '))\n",
    "if n <= 0:\n",
    "    print('Вы ввели неверное число, попробуйте еще раз')\n",
    "    n = int(input('Введите целое положительное число: '))\n",
    "for i in range (1, n+1):\n",
    "    if (i%3==0 and i%5==0):\n",
    "        print(a, end=' ')\n",
    "    elif i%3 == 0:\n",
    "        print(b, end=' ')\n",
    "    elif i%5 == 0:\n",
    "        print(c, end=' ')\n",
    "    else: \n",
    "        print(i, end=' ')\n",
    "    \n"
   ]
  },
  {
   "cell_type": "markdown",
   "id": "1f0a960a-f5b8-4b30-9a0f-1489ba82d2bf",
   "metadata": {},
   "source": [
    "# Задача 2: \"Интерактивный менеджер списка покупок\""
   ]
  },
  {
   "cell_type": "code",
   "execution_count": 33,
   "id": "b212c9f5-a551-444f-bd2e-166fbeeb5e0c",
   "metadata": {},
   "outputs": [
    {
     "name": "stdout",
     "output_type": "stream",
     "text": [
      "--------------------\n",
      "1. Добавить\n",
      "2. Показать\n",
      "3. Выйти\n",
      "--------------------\n"
     ]
    },
    {
     "name": "stdin",
     "output_type": "stream",
     "text": [
      "Выберите дейтсвие:  2\n"
     ]
    },
    {
     "name": "stdout",
     "output_type": "stream",
     "text": [
      "--------------------\n",
      "Список покупок пуст.\n",
      "--------------------\n",
      "1. Добавить\n",
      "2. Показать\n",
      "3. Выйти\n",
      "--------------------\n"
     ]
    },
    {
     "name": "stdin",
     "output_type": "stream",
     "text": [
      "Выберите дейтсвие:  3\n"
     ]
    },
    {
     "name": "stdout",
     "output_type": "stream",
     "text": [
      "Программа завершена!\n"
     ]
    }
   ],
   "source": [
    "shopping_list = []\n",
    "while True:\n",
    "    print('-' * 20) #Добавил границы окна, чтобы при выводе списка продуктов, он не сливался со списком действий\n",
    "    print('1. Добавить\\n2. Показать\\n3. Выйти')\n",
    "    print('-' * 20) #Тут тоже добавил\n",
    "    action = input('Выберите дейтсвие: ')\n",
    "    if action == \"1\":\n",
    "        product = input('Введите название продукта: ') \n",
    "        #убрал целоцислиннную типизацию, чтобы легче обрабатывать ошибки при вводе неверных символов, теперь программа не падает при вводе букв\n",
    "        shopping_list.append(product)\n",
    "    elif action == \"2\":\n",
    "        if len(shopping_list) == 0:\n",
    "            print('-' * 20) #Тут тоже добавил\n",
    "            print('Список покупок пуст.')\n",
    "        else:\n",
    "            print('-' * 20) #Тут тоже добавил\n",
    "            print('Список продуктов')\n",
    "            # выводим словосочетание перед циклом, чтобы не повторять его каждый раз\n",
    "            for index, i in enumerate(shopping_list):\n",
    "                print(f\"{index+1}. {i}\")\n",
    "    elif action == \"3\":\n",
    "        print('Программа завершена!')\n",
    "        break\n",
    "    else:\n",
    "        print('Неизвестная команда, попробуйте ещё раз')\n",
    "        \n"
   ]
  },
  {
   "cell_type": "code",
   "execution_count": null,
   "id": "83ffb1b6-706f-4c83-b28c-716d783453b4",
   "metadata": {},
   "outputs": [],
   "source": []
  }
 ],
 "metadata": {
  "kernelspec": {
   "display_name": "Python 3 (ipykernel)",
   "language": "python",
   "name": "python3"
  },
  "language_info": {
   "codemirror_mode": {
    "name": "ipython",
    "version": 3
   },
   "file_extension": ".py",
   "mimetype": "text/x-python",
   "name": "python",
   "nbconvert_exporter": "python",
   "pygments_lexer": "ipython3",
   "version": "3.9.6"
  }
 },
 "nbformat": 4,
 "nbformat_minor": 5
}
